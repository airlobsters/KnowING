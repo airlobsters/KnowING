{
 "cells": [
  {
   "cell_type": "code",
   "execution_count": null,
   "id": "322f0e35",
   "metadata": {},
   "outputs": [],
   "source": [
    "import pandas as pd\n",
    "from transformers import AutoTokenizer, AutoModelForSequenceClassification, TextClassificationPipeline\n",
    "import os"
   ]
  },
  {
   "cell_type": "code",
   "execution_count": null,
   "id": "a2c5969c",
   "metadata": {},
   "outputs": [],
   "source": [
    "df = pd.read_csv(os.path.join(\"data\", \"cleaned_corpus.csv\"), index_col=0)"
   ]
  },
  {
   "cell_type": "code",
   "execution_count": null,
   "id": "e4a623e3",
   "metadata": {},
   "outputs": [],
   "source": [
    "df.head()"
   ]
  },
  {
   "cell_type": "code",
   "execution_count": null,
   "id": "d0c4c6e1",
   "metadata": {},
   "outputs": [],
   "source": [
    "tokenizer = AutoTokenizer.from_pretrained(\"DTAI-KULeuven/robbert-v2-dutch-sentiment\")\n",
    "model = AutoModelForSequenceClassification.from_pretrained(\"DTAI-KULeuven/robbert-v2-dutch-sentiment\")"
   ]
  },
  {
   "cell_type": "code",
   "execution_count": null,
   "id": "8db82fbe",
   "metadata": {},
   "outputs": [],
   "source": [
    "pipe = TextClassificationPipeline(model=model, tokenizer=tokenizer, return_all_scores=True)\n",
    "sentiment = pipe(df[\"Tweet\"].tolist())\n",
    "pos, neg = [], []\n",
    "\n",
    "for s in sentiment:\n",
    "    neg.append(s[0][\"score\"])\n",
    "    pos.append(s[1][\"score\"])\n",
    "\n",
    "df[\"negative\"] = neg\n",
    "df[\"positive\"] = pos"
   ]
  },
  {
   "cell_type": "code",
   "execution_count": null,
   "id": "043fffc6",
   "metadata": {},
   "outputs": [],
   "source": [
    "df.head()"
   ]
  },
  {
   "cell_type": "code",
   "execution_count": null,
   "id": "09d9f9b7",
   "metadata": {},
   "outputs": [],
   "source": [
    "df[\"Date Created\"] = pd.to_datetime(df[\"Date Created\"])\n",
    "df = df.sort_values(\"Date Created\")"
   ]
  },
  {
   "cell_type": "code",
   "execution_count": null,
   "id": "24202b0e",
   "metadata": {},
   "outputs": [],
   "source": [
    "df.to_csv(\"with_sentiment.csv\")"
   ]
  }
 ],
 "metadata": {
  "kernelspec": {
   "display_name": "Python 3 (ipykernel)",
   "language": "python",
   "name": "python3"
  },
  "language_info": {
   "codemirror_mode": {
    "name": "ipython",
    "version": 3
   },
   "file_extension": ".py",
   "mimetype": "text/x-python",
   "name": "python",
   "nbconvert_exporter": "python",
   "pygments_lexer": "ipython3",
   "version": "3.9.13"
  }
 },
 "nbformat": 4,
 "nbformat_minor": 5
}
